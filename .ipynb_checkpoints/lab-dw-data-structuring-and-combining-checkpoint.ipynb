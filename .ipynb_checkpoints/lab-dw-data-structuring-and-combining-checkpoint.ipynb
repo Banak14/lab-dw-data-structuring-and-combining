{
 "cells": [
  {
   "cell_type": "markdown",
   "id": "25d7736c-ba17-4aff-b6bb-66eba20fbf4e",
   "metadata": {
    "id": "25d7736c-ba17-4aff-b6bb-66eba20fbf4e"
   },
   "source": [
    "# Lab | Data Structuring and Combining Data"
   ]
  },
  {
   "cell_type": "markdown",
   "id": "a2cdfc70-44c8-478c-81e7-2bc43fdf4986",
   "metadata": {
    "id": "a2cdfc70-44c8-478c-81e7-2bc43fdf4986"
   },
   "source": [
    "## Challenge 1: Combining & Cleaning Data\n",
    "\n",
    "In this challenge, we will be working with the customer data from an insurance company, as we did in the two previous labs. The data can be found here:\n",
    "- https://raw.githubusercontent.com/data-bootcamp-v4/data/main/file1.csv\n",
    "\n",
    "But this time, we got new data, which can be found in the following 2 CSV files located at the links below.\n",
    "\n",
    "- https://raw.githubusercontent.com/data-bootcamp-v4/data/main/file2.csv\n",
    "- https://raw.githubusercontent.com/data-bootcamp-v4/data/main/file3.csv\n",
    "\n",
    "Note that you'll need to clean and format the new data.\n",
    "\n",
    "Observation:\n",
    "- One option is to first combine the three datasets and then apply the cleaning function to the new combined dataset\n",
    "- Another option would be to read the clean file you saved in the previous lab, and just clean the two new files and concatenate the three clean datasets"
   ]
  },
  {
   "cell_type": "code",
   "execution_count": 30,
   "id": "492d06e3-92c7-4105-ac72-536db98d3244",
   "metadata": {
    "id": "492d06e3-92c7-4105-ac72-536db98d3244"
   },
   "outputs": [
    {
     "name": "stdout",
     "output_type": "stream",
     "text": [
      "Final cleaned dataset saved as 'final_cleaned_dataset.csv'\n"
     ]
    }
   ],
   "source": [
    "# Your code goes here\n",
    "import pandas as pd\n",
    "\n",
    "# Function\n",
    "def clean_data(df):\n",
    "  \n",
    "    df.fillna({'GENDER': 'Unknown', 'Customer Lifetime Value': '0%', 'Number of Open Complaints': '0'}, inplace=True)\n",
    "    \n",
    "\n",
    "    df['GENDER'] = df['GENDER'].replace({'Femal': 'F', 'Male': 'M', 'female': 'F'})\n",
    "    df['ST'] = df['ST'].replace({'Washington': 'Washington', 'Arizona': 'Arizona', 'Nevada': 'Nevada', 'California': 'California', 'Oregon': 'Oregon'})\n",
    "    df['State'] = df['State'].replace({'Washington': 'Washington', 'Arizona': 'Arizona', 'Nevada': 'Nevada', 'California': 'California', 'Oregon': 'Oregon'})\n",
    "    df['Education'] = df['Education'].replace({'Bachelors': 'Bachelor'})\n",
    "    df['Vehicle Class'] = df['Vehicle Class'].replace({'Sports Car': 'Luxury', 'Luxury SUV': 'Luxury', 'Luxury Car': 'Luxury'})\n",
    "    \n",
    "    if 'Customer Lifetime Value' in df.columns:\n",
    "        df['Customer Lifetime Value'] = df['Customer Lifetime Value'].str.replace('%', '').astype(float)\n",
    "    \n",
    "    if 'Number of Open Complaints' in df.columns:\n",
    "        # Convert to string to avoid AttributeError\n",
    "        df['Number of Open Complaints'] = df['Number of Open Complaints'].astype(str)\n",
    "        df['Number of Open Complaints'] = df['Number of Open Complaints'].apply(\n",
    "            lambda x: int(x.split('/')[1]) if len(x.split('/')) > 1 else 0\n",
    "        )\n",
    "    \n",
    "    df['Income'] = df['Income'].astype(float)\n",
    "    df['Monthly Premium Auto'] = df['Monthly Premium Auto'].astype(float)\n",
    "    df['Total Claim Amount'] = df['Total Claim Amount'].astype(float)\n",
    "    \n",
    "  \n",
    "    df.drop_duplicates(inplace=True)\n",
    "    \n",
    "    return df\n",
    "\n",
    "\n",
    "df1 = pd.read_csv('https://raw.githubusercontent.com/data-bootcamp-v4/data/main/file1.csv')\n",
    "df2 = pd.read_csv('https://raw.githubusercontent.com/data-bootcamp-v4/data/main/file2.csv')\n",
    "df3 = pd.read_csv('https://raw.githubusercontent.com/data-bootcamp-v4/data/main/file3.csv')\n",
    "\n",
    "combined_df = pd.concat([df1, df2, df3], ignore_index=True)\n",
    "\n",
    "cleaned_df = clean_data(combined_df)\n",
    "\n",
    "cleaned_df.to_csv('final_cleaned_dataset.csv', index=False)\n",
    "\n",
    "print(\"Final cleaned dataset saved as 'final_cleaned_dataset.csv'\")\n",
    "\n"
   ]
  },
  {
   "cell_type": "markdown",
   "id": "31b8a9e7-7db9-4604-991b-ef6771603e57",
   "metadata": {
    "id": "31b8a9e7-7db9-4604-991b-ef6771603e57"
   },
   "source": [
    "# Challenge 2: Structuring Data"
   ]
  },
  {
   "cell_type": "markdown",
   "id": "a877fd6d-7a0c-46d2-9657-f25036e4ca4b",
   "metadata": {
    "id": "a877fd6d-7a0c-46d2-9657-f25036e4ca4b"
   },
   "source": [
    "In this challenge, we will continue to work with customer data from an insurance company, but we will use a dataset with more columns, called marketing_customer_analysis.csv, which can be found at the following link:\n",
    "\n",
    "https://raw.githubusercontent.com/data-bootcamp-v4/data/main/marketing_customer_analysis_clean.csv\n",
    "\n",
    "This dataset contains information such as customer demographics, policy details, vehicle information, and the customer's response to the last marketing campaign. Our goal is to explore and analyze this data by performing data cleaning, formatting, and structuring."
   ]
  },
  {
   "cell_type": "code",
   "execution_count": 33,
   "id": "aa10d9b0-1c27-4d3f-a8e4-db6ab73bfd26",
   "metadata": {
    "id": "aa10d9b0-1c27-4d3f-a8e4-db6ab73bfd26"
   },
   "outputs": [
    {
     "name": "stdout",
     "output_type": "stream",
     "text": [
      "Dataset Columns:\n",
      "Index(['unnamed:_0', 'customer', 'state', 'customer_lifetime_value',\n",
      "       'response', 'coverage', 'education', 'effective_to_date',\n",
      "       'employmentstatus', 'gender', 'income', 'location_code',\n",
      "       'marital_status', 'monthly_premium_auto', 'months_since_last_claim',\n",
      "       'months_since_policy_inception', 'number_of_open_complaints',\n",
      "       'number_of_policies', 'policy_type', 'policy', 'renew_offer_type',\n",
      "       'sales_channel', 'total_claim_amount', 'vehicle_class', 'vehicle_size',\n",
      "       'vehicle_type', 'month'],\n",
      "      dtype='object')\n",
      "\n",
      "First few rows:\n",
      "   unnamed:_0 customer       state  customer_lifetime_value response  \\\n",
      "0           0  DK49336     Arizona              4809.216960       No   \n",
      "1           1  KX64629  California              2228.525238       No   \n",
      "2           2  LZ68649  Washington             14947.917300       No   \n",
      "3           3  XL78013      Oregon             22332.439460      Yes   \n",
      "4           4  QA50777      Oregon              9025.067525       No   \n",
      "\n",
      "   coverage education effective_to_date employmentstatus gender  ...  \\\n",
      "0     Basic   College        2011-02-18         Employed      M  ...   \n",
      "1     Basic   College        2011-01-18       Unemployed      F  ...   \n",
      "2     Basic  Bachelor        2011-02-10         Employed      M  ...   \n",
      "3  Extended   College        2011-01-11         Employed      M  ...   \n",
      "4   Premium  Bachelor        2011-01-17    Medical Leave      F  ...   \n",
      "\n",
      "   number_of_policies     policy_type        policy  renew_offer_type  \\\n",
      "0                   9  Corporate Auto  Corporate L3            Offer3   \n",
      "1                   1   Personal Auto   Personal L3            Offer4   \n",
      "2                   2   Personal Auto   Personal L3            Offer3   \n",
      "3                   2  Corporate Auto  Corporate L3            Offer2   \n",
      "4                   7   Personal Auto   Personal L2            Offer1   \n",
      "\n",
      "   sales_channel  total_claim_amount  vehicle_class  vehicle_size  \\\n",
      "0          Agent          292.800000  Four-Door Car       Medsize   \n",
      "1    Call Center          744.924331  Four-Door Car       Medsize   \n",
      "2    Call Center          480.000000            SUV       Medsize   \n",
      "3         Branch          484.013411  Four-Door Car       Medsize   \n",
      "4         Branch          707.925645  Four-Door Car       Medsize   \n",
      "\n",
      "  vehicle_type month  \n",
      "0            A     2  \n",
      "1            A     1  \n",
      "2            A     2  \n",
      "3            A     1  \n",
      "4            A     1  \n",
      "\n",
      "[5 rows x 27 columns]\n",
      "\n",
      "Data Types:\n",
      "unnamed:_0                         int64\n",
      "customer                          object\n",
      "state                             object\n",
      "customer_lifetime_value          float64\n",
      "response                          object\n",
      "coverage                          object\n",
      "education                         object\n",
      "effective_to_date                 object\n",
      "employmentstatus                  object\n",
      "gender                            object\n",
      "income                             int64\n",
      "location_code                     object\n",
      "marital_status                    object\n",
      "monthly_premium_auto               int64\n",
      "months_since_last_claim          float64\n",
      "months_since_policy_inception      int64\n",
      "number_of_open_complaints        float64\n",
      "number_of_policies                 int64\n",
      "policy_type                       object\n",
      "policy                            object\n",
      "renew_offer_type                  object\n",
      "sales_channel                     object\n",
      "total_claim_amount               float64\n",
      "vehicle_class                     object\n",
      "vehicle_size                      object\n",
      "vehicle_type                      object\n",
      "month                              int64\n",
      "dtype: object\n",
      "\n",
      "Missing Values:\n",
      "unnamed:_0                       0\n",
      "customer                         0\n",
      "state                            0\n",
      "customer_lifetime_value          0\n",
      "response                         0\n",
      "coverage                         0\n",
      "education                        0\n",
      "effective_to_date                0\n",
      "employmentstatus                 0\n",
      "gender                           0\n",
      "income                           0\n",
      "location_code                    0\n",
      "marital_status                   0\n",
      "monthly_premium_auto             0\n",
      "months_since_last_claim          0\n",
      "months_since_policy_inception    0\n",
      "number_of_open_complaints        0\n",
      "number_of_policies               0\n",
      "policy_type                      0\n",
      "policy                           0\n",
      "renew_offer_type                 0\n",
      "sales_channel                    0\n",
      "total_claim_amount               0\n",
      "vehicle_class                    0\n",
      "vehicle_size                     0\n",
      "vehicle_type                     0\n",
      "month                            0\n",
      "dtype: int64\n",
      "Cleaned dataset saved as 'cleaned_marketing_customer_analysis.csv'\n"
     ]
    }
   ],
   "source": [
    "# Your code goes here\n",
    "\n",
    "import pandas as pd\n",
    "\n",
    "url = 'https://raw.githubusercontent.com/data-bootcamp-v4/data/main/marketing_customer_analysis_clean.csv'\n",
    "df = pd.read_csv(url)\n",
    "\n",
    "print(\"Dataset Columns:\")\n",
    "print(df.columns)\n",
    "print(\"\\nFirst few rows:\")\n",
    "print(df.head())\n",
    "print(\"\\nData Types:\")\n",
    "print(df.dtypes)\n",
    "print(\"\\nMissing Values:\")\n",
    "print(df.isnull().sum())\n",
    "\n",
    "\n",
    "def clean_new_data(df):\n",
    "\n",
    "    df.columns = df.columns.str.strip()\n",
    "\n",
    "    for col in df.select_dtypes(include=['float64', 'int64']).columns:\n",
    "        df[col] = df[col].fillna(df[col].mean())\n",
    "    \n",
    "    for col in df.select_dtypes(include=['object']).columns:\n",
    "        df[col] = df[col].fillna(df[col].mode()[0])\n",
    "    \n",
    "    df[df.select_dtypes(include=['object']).columns] = df.select_dtypes(include=['object']).apply(lambda x: x.str.lower())\n",
    "    \n",
    "    if 'Age' in df.columns:\n",
    "        df['Age'] = df['Age'].astype(int)\n",
    "    if 'Income' in df.columns:\n",
    "        df['Income'] = df['Income'].astype(int)\n",
    "    \n",
    "    df = df.drop_duplicates()\n",
    "    \n",
    "    return df\n",
    "\n",
    "cleaned_df = clean_new_data(df)\n",
    "\n",
    "cleaned_df.to_csv('cleaned_marketing_customer_analysis.csv', index=False)\n",
    "\n",
    "print(\"Cleaned dataset saved as 'cleaned_marketing_customer_analysis.csv'\")\n",
    "\n"
   ]
  },
  {
   "cell_type": "markdown",
   "id": "df35fd0d-513e-4e77-867e-429da10a9cc7",
   "metadata": {
    "id": "df35fd0d-513e-4e77-867e-429da10a9cc7"
   },
   "source": [
    "1. You work at the marketing department and you want to know which sales channel brought the most sales in terms of total revenue. Using pivot, create a summary table showing the total revenue for each sales channel (branch, call center, web, and mail).\n",
    "Round the total revenue to 2 decimal points.  Analyze the resulting table to draw insights."
   ]
  },
  {
   "cell_type": "code",
   "execution_count": 35,
   "id": "271e8d38-fa7a-45c4-a7d7-feb132bbffd7",
   "metadata": {},
   "outputs": [
    {
     "name": "stdout",
     "output_type": "stream",
     "text": [
      "Total Revenue by Sales Channel:\n",
      "  Sales Channel  Total Revenue\n",
      "0         agent     1810226.82\n",
      "1        branch     1301204.00\n",
      "2   call center      926600.82\n",
      "3           web      706600.04\n",
      "\n",
      "Channel with the highest total revenue:\n",
      "Sales Channel         agent\n",
      "Total Revenue    1810226.82\n",
      "Name: 0, dtype: object\n"
     ]
    }
   ],
   "source": [
    "pivot_table = df.pivot_table(values='total_claim_amount', \n",
    "                            index='sales_channel', \n",
    "                            aggfunc='sum').reset_index()\n",
    "\n",
    "\n",
    "pivot_table.columns = ['Sales Channel', 'Total Revenue']\n",
    "pivot_table['Total Revenue'] = pivot_table['Total Revenue'].round(2)\n",
    "\n",
    "print(\"Total Revenue by Sales Channel:\")\n",
    "print(pivot_table)\n",
    "\n",
    "max_revenue_channel = pivot_table.loc[pivot_table['Total Revenue'].idxmax()]\n",
    "\n",
    "print(\"\\nChannel with the highest total revenue:\")\n",
    "print(max_revenue_channel)"
   ]
  },
  {
   "cell_type": "markdown",
   "id": "640993b2-a291-436c-a34d-a551144f8196",
   "metadata": {
    "id": "640993b2-a291-436c-a34d-a551144f8196"
   },
   "source": [
    "2. Create a pivot table that shows the average customer lifetime value per gender and education level. Analyze the resulting table to draw insights."
   ]
  },
  {
   "cell_type": "code",
   "execution_count": 37,
   "id": "ab9d4c0e-bee1-4964-967e-bbec5033b9c1",
   "metadata": {},
   "outputs": [
    {
     "name": "stdout",
     "output_type": "stream",
     "text": [
      "Average Customer Lifetime Value by Gender and Education Level:\n",
      "  Gender  bachelor  college   doctor  high school or below   master\n",
      "0      f   7874.27  7748.82  7328.51               8675.22  8157.05\n",
      "1      m   7703.60  8052.46  7415.33               8149.69  8168.83\n",
      "\n",
      "Highest Average Customer Lifetime Value for Each Gender and Education Level:\n",
      "  Gender  bachelor  college   doctor  high school or below   master\n",
      "0      f   7874.27  7748.82  7328.51               8675.22  8157.05\n",
      "0      f   7874.27  7748.82  7328.51               8675.22  8157.05\n",
      "0      f   7874.27  7748.82  7328.51               8675.22  8157.05\n",
      "0      f   7874.27  7748.82  7328.51               8675.22  8157.05\n",
      "0      f   7874.27  7748.82  7328.51               8675.22  8157.05\n",
      "1      m   7703.60  8052.46  7415.33               8149.69  8168.83\n",
      "1      m   7703.60  8052.46  7415.33               8149.69  8168.83\n",
      "1      m   7703.60  8052.46  7415.33               8149.69  8168.83\n",
      "1      m   7703.60  8052.46  7415.33               8149.69  8168.83\n",
      "1      m   7703.60  8052.46  7415.33               8149.69  8168.83\n"
     ]
    }
   ],
   "source": [
    "pivot_table_avg_clv = df.pivot_table(values='customer_lifetime_value', \n",
    "                                     index='gender', \n",
    "                                     columns='education', \n",
    "                                     aggfunc='mean').round(2).reset_index()\n",
    "\n",
    "\n",
    "pivot_table_avg_clv.columns.name = None  \n",
    "pivot_table_avg_clv.rename(columns={'gender': 'Gender'}, inplace=True)\n",
    "\n",
    "\n",
    "print(\"Average Customer Lifetime Value by Gender and Education Level:\")\n",
    "print(pivot_table_avg_clv)\n",
    "\n",
    "highest_avg_clv_per_gender = pivot_table_avg_clv.loc[pivot_table_avg_clv.groupby('Gender').idxmax().values.flatten()]\n",
    "\n",
    "print(\"\\nHighest Average Customer Lifetime Value for Each Gender and Education Level:\")\n",
    "print(highest_avg_clv_per_gender)\n"
   ]
  },
  {
   "cell_type": "markdown",
   "id": "32c7f2e5-3d90-43e5-be33-9781b6069198",
   "metadata": {
    "id": "32c7f2e5-3d90-43e5-be33-9781b6069198"
   },
   "source": [
    "## Bonus\n",
    "\n",
    "You work at the customer service department and you want to know which months had the highest number of complaints by policy type category. Create a summary table showing the number of complaints by policy type and month.\n",
    "Show it in a long format table."
   ]
  },
  {
   "cell_type": "markdown",
   "id": "e3d09a8f-953c-448a-a5f8-2e5a8cca7291",
   "metadata": {
    "id": "e3d09a8f-953c-448a-a5f8-2e5a8cca7291"
   },
   "source": [
    "*In data analysis, a long format table is a way of structuring data in which each observation or measurement is stored in a separate row of the table. The key characteristic of a long format table is that each column represents a single variable, and each row represents a single observation of that variable.*\n",
    "\n",
    "*More information about long and wide format tables here: https://www.statology.org/long-vs-wide-data/*"
   ]
  },
  {
   "cell_type": "code",
   "execution_count": 40,
   "id": "3a069e0b-b400-470e-904d-d17582191be4",
   "metadata": {
    "id": "3a069e0b-b400-470e-904d-d17582191be4"
   },
   "outputs": [],
   "source": [
    "# Your code goes here"
   ]
  }
 ],
 "metadata": {
  "colab": {
   "provenance": []
  },
  "kernelspec": {
   "display_name": "Python 3 (ipykernel)",
   "language": "python",
   "name": "python3"
  },
  "language_info": {
   "codemirror_mode": {
    "name": "ipython",
    "version": 3
   },
   "file_extension": ".py",
   "mimetype": "text/x-python",
   "name": "python",
   "nbconvert_exporter": "python",
   "pygments_lexer": "ipython3",
   "version": "3.12.4"
  }
 },
 "nbformat": 4,
 "nbformat_minor": 5
}
